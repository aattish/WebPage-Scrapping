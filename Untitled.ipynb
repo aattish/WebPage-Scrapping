{
 "cells": [
  {
   "cell_type": "code",
   "execution_count": 1,
   "metadata": {},
   "outputs": [],
   "source": [
    "import requests\n",
    "from lxml import html\n",
    "import pandas as pd\n",
    "import matplotlib.pyplot as plt"
   ]
  },
  {
   "cell_type": "code",
   "execution_count": null,
   "metadata": {},
   "outputs": [],
   "source": [
    "user_agent = 'Mozilla/5.0 (Macintosh; Intel Mac OS X 10_12_6) AppleWebKit/537.36 (KHTML, like Gecko) Chrome/62.0.3202.94 Safari/537.36'\n",
    "headers = {'User-Agent': user_agent}\n",
    "reviews_df=pd.DataFrame(columns=['author','title','body','date','rating','helpful'])\n",
    "for i in range(1,1000) :\n",
    "    \n",
    "    amazn_url='https://www.amazon.com/product-reviews/B01DFKC2SO?pageNumber='+str(i)+'&sortBy=recent'\n",
    "    page = requests.get(amazn_url, headers = headers)\n",
    "    print(str(i))\n",
    "    parser = html.fromstring(page.content)\n",
    "    xpath_reviews = '//div[@data-hook=\"review\"]'\n",
    "    reviews=parser.xpath(xpath_reviews)\n",
    "    xpath_rating  = './/i[@data-hook=\"review-star-rating\"]//text()' \n",
    "    xpath_title   = './/a[@data-hook=\"review-title\"]//text()'\n",
    "    xpath_author  = './/a[@data-hook=\"review-author\"]//text()'\n",
    "    xpath_date    = './/span[@data-hook=\"review-date\"]//text()'\n",
    "    xpath_body    = './/span[@data-hook=\"review-body\"]//text()'\n",
    "    xpath_helpful = './/span[@data-hook=\"helpful-vote-statement\"]//text()'\n",
    "    \n",
    "    for review in reviews : \n",
    "        rating=review.xpath(xpath_rating)\n",
    "        title=review.xpath(xpath_title)\n",
    "        author=review.xpath(xpath_author)\n",
    "        date=review.xpath(xpath_date)\n",
    "        body=review.xpath(xpath_body)\n",
    "        helpful=review.xpath(xpath_helpful)\n",
    "        #print(rating)\n",
    "        Dict_reviews={\n",
    "            'E_Rating':rating,\n",
    "            'C_Author':author,\n",
    "            'D_Date':date,\n",
    "            'A_Title':title,\n",
    "            'B_Content':body,\n",
    "            'F_Helpful':helpful,\n",
    "        }\n",
    "        reviews_df=reviews_df.append({'author':\"\".join(author),'title':\"\".join(title),'body':\"\".join(body),'date':\"\".join(date),'rating':\" \".join(rating),'helpful':\"\".join(helpful)},ignore_index=True)\n",
    "        \n",
    "    #Total_reviews=Total_reviews.append(reviews_df,ignore_index=True)\n",
    "\n",
    "reviews_df"
   ]
  },
  {
   "cell_type": "code",
   "execution_count": 8,
   "metadata": {},
   "outputs": [],
   "source": [
    "reviews_df.shape\n",
    "reviews_df.to_csv(\"Amzn_reviews2.csv\")"
   ]
  },
  {
   "cell_type": "code",
   "execution_count": 1,
   "metadata": {},
   "outputs": [
    {
     "ename": "NameError",
     "evalue": "name 'reviews_df' is not defined",
     "output_type": "error",
     "traceback": [
      "\u001b[1;31m---------------------------------------------------------------------------\u001b[0m",
      "\u001b[1;31mNameError\u001b[0m                                 Traceback (most recent call last)",
      "\u001b[1;32m<ipython-input-1-0088123250be>\u001b[0m in \u001b[0;36m<module>\u001b[1;34m()\u001b[0m\n\u001b[1;32m----> 1\u001b[1;33m \u001b[0mreviews_df\u001b[0m\u001b[1;33m.\u001b[0m\u001b[0mhead\u001b[0m\u001b[1;33m(\u001b[0m\u001b[1;36m10\u001b[0m\u001b[1;33m)\u001b[0m\u001b[1;33m\u001b[0m\u001b[0m\n\u001b[0m\u001b[0;32m      2\u001b[0m \u001b[0mtotal_df\u001b[0m\u001b[1;33m=\u001b[0m\u001b[0mreviews_df\u001b[0m\u001b[1;33m.\u001b[0m\u001b[0mreplace\u001b[0m\u001b[1;33m(\u001b[0m\u001b[1;33m{\u001b[0m\u001b[1;34m'rating'\u001b[0m\u001b[1;33m:\u001b[0m\u001b[1;33m{\u001b[0m\u001b[1;34m'5.0 out of 5 stars'\u001b[0m\u001b[1;33m:\u001b[0m\u001b[1;36m5\u001b[0m\u001b[1;33m,\u001b[0m\u001b[1;34m'4.0 out of 5 stars'\u001b[0m\u001b[1;33m:\u001b[0m\u001b[1;36m4\u001b[0m\u001b[1;33m,\u001b[0m\u001b[1;34m'3.0 out of 5 stars'\u001b[0m\u001b[1;33m:\u001b[0m\u001b[1;36m3\u001b[0m\u001b[1;33m,\u001b[0m\u001b[1;34m'2.0 out of 5 stars'\u001b[0m\u001b[1;33m:\u001b[0m\u001b[1;36m2\u001b[0m\u001b[1;33m,\u001b[0m\u001b[1;34m'1.0 out of 5 stars'\u001b[0m\u001b[1;33m:\u001b[0m\u001b[1;36m1\u001b[0m\u001b[1;33m}\u001b[0m\u001b[1;33m}\u001b[0m\u001b[1;33m)\u001b[0m\u001b[1;33m\u001b[0m\u001b[0m\n\u001b[0;32m      3\u001b[0m \u001b[0mtotal_df\u001b[0m\u001b[1;33m=\u001b[0m\u001b[0mtotal_df\u001b[0m\u001b[1;33m.\u001b[0m\u001b[0mreplace\u001b[0m\u001b[1;33m(\u001b[0m\u001b[1;33m{\u001b[0m\u001b[1;34m'helpful'\u001b[0m\u001b[1;33m:\u001b[0m\u001b[1;33m{\u001b[0m\u001b[1;34m'One person found this helpful'\u001b[0m\u001b[1;33m:\u001b[0m\u001b[1;36m1\u001b[0m\u001b[1;33m,\u001b[0m\u001b[1;34m''\u001b[0m\u001b[1;33m:\u001b[0m\u001b[1;36m0\u001b[0m\u001b[1;33m}\u001b[0m\u001b[1;33m}\u001b[0m\u001b[1;33m)\u001b[0m\u001b[1;33m\u001b[0m\u001b[0m\n\u001b[0;32m      4\u001b[0m \u001b[1;31m#total_df=total_df.replace({'date':{'October 29, 2018':'October 29 2018'}})\u001b[0m\u001b[1;33m\u001b[0m\u001b[1;33m\u001b[0m\u001b[0m\n\u001b[0;32m      5\u001b[0m \u001b[0mtotal_df\u001b[0m\u001b[1;33m[\u001b[0m\u001b[1;34m'date'\u001b[0m\u001b[1;33m]\u001b[0m\u001b[1;33m=\u001b[0m\u001b[0mpd\u001b[0m\u001b[1;33m.\u001b[0m\u001b[0mto_datetime\u001b[0m\u001b[1;33m(\u001b[0m\u001b[0mtotal_df\u001b[0m\u001b[1;33m[\u001b[0m\u001b[1;34m'date'\u001b[0m\u001b[1;33m]\u001b[0m\u001b[1;33m,\u001b[0m\u001b[0mformat\u001b[0m\u001b[1;33m=\u001b[0m\u001b[1;34m'%B %d, %Y'\u001b[0m\u001b[1;33m)\u001b[0m\u001b[1;33m\u001b[0m\u001b[0m\n",
      "\u001b[1;31mNameError\u001b[0m: name 'reviews_df' is not defined"
     ]
    }
   ],
   "source": [
    "reviews_df=read_csv('A')\n",
    "reviews_df.head(10)\n",
    "total_df=reviews_df.replace({'rating':{'5.0 out of 5 stars':5,'4.0 out of 5 stars':4,'3.0 out of 5 stars':3,'2.0 out of 5 stars':2,'1.0 out of 5 stars':1}})\n",
    "total_df=total_df.replace({'helpful':{'One person found this helpful':1,'':0}})\n",
    "#total_df=total_df.replace({'date':{'October 29, 2018':'October 29 2018'}})\n",
    "total_df['date']=pd.to_datetime(total_df['date'],format='%B %d, %Y')\n",
    "total_df.drop('author',axis=1)\n",
    "total_df.to_csv(\"Amzn_reviews3.csv\")\n",
    "total_df.head(8)"
   ]
  },
  {
   "cell_type": "code",
   "execution_count": null,
   "metadata": {},
   "outputs": [],
   "source": [
    "total_df=pd.read_csv(\"Amzn_reviews1.csv\")"
   ]
  },
  {
   "cell_type": "code",
   "execution_count": 7,
   "metadata": {},
   "outputs": [
    {
     "data": {
      "image/png": "[encoded data removed]",
      "text/plain": [
       "<Figure size 432x288 with 1 Axes>"
      ]
     },
     "metadata": {},
     "output_type": "display_data"
    }
   ],
   "source": [
    "\n",
    "plt.hist(x=total_df['rating'],bins=50)\n",
    "plt.xlabel(\"No of Frequenies\")\n",
    "plt.xlabel(\"Rating\")\n",
    "plt.show()"
   ]
  },
  {
   "cell_type": "code",
   "execution_count": null,
   "metadata": {},
   "outputs": [],
   "source": []
  }
 ],
 "metadata": {
  "kernelspec": {
   "display_name": "Python 3",
   "language": "python",
   "name": "python3"
  },
  "language_info": {
   "codemirror_mode": {
    "name": "ipython",
    "version": 3
   },
   "file_extension": ".py",
   "mimetype": "text/x-python",
   "name": "python",
   "nbconvert_exporter": "python",
   "pygments_lexer": "ipython3",
   "version": "3.6.5"
  }
 },
 "nbformat": 4,
 "nbformat_minor": 2
}
